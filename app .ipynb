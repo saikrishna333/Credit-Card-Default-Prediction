{
 "cells": [
  {
   "cell_type": "code",
   "execution_count": 1,
   "metadata": {},
   "outputs": [],
   "source": [
    "# FLASK - deployment"
   ]
  },
  {
   "cell_type": "code",
   "execution_count": 2,
   "metadata": {},
   "outputs": [],
   "source": [
    "import numpy as np\n",
    "from werkzeug.wrappers import Request,Response\n",
    "from flask import Flask,request,jsonify,render_template\n",
    "import pickle"
   ]
  },
  {
   "cell_type": "code",
   "execution_count": null,
   "metadata": {},
   "outputs": [],
   "source": [
    "app = Flask(__name__)\n",
    "model = pickle.load(open('pipe.pkl', 'rb'))\n",
    "# Default route set as 'home'\n",
    "@app.route('/')\n",
    "\n",
    "def home():\n",
    "    return render_template('home.html') # Render home.html\n",
    "\n",
    "# Route 'classify' accepts GET request\n",
    "@app.route('/classify/',methods=['GET','POST'],endpoint='/classify')\n",
    "def classify():\n",
    "    try:\n",
    "        lb = request.args.get('lb') # Get parameters for sepal length\n",
    "        sex = request.args.get('sex') # Get parameters for sepal width\n",
    "        edu = request.args.get('edu') # Get parameters for petal length\n",
    "        mar = request.args.get('mar') # Get parameters for petal width\n",
    "        age = request.args.get('age')\n",
    "        p0 = request.args.get('p0')\n",
    "        p2 = request.args.get('p2')\n",
    "        p3 = request.args.get('p3')\n",
    "        p4 = request.args.get('p4')\n",
    "        p5 = request.args.get('p5')\n",
    "        p6 = request.args.get('p6')\n",
    "        b1 = request.args.get('b1')\n",
    "        b2 = request.args.get('b2')\n",
    "        b3 = request.args.get('b3')\n",
    "        b4 = request.args.get('b4')\n",
    "        b5 = request.args.get('b5')\n",
    "        b6 = request.args.get('b6')\n",
    "        pa1 = request.args.get('pa1')\n",
    "        pa2 = request.args.get('pa2')\n",
    "        pa3 = request.args.get('pa3')\n",
    "        pa4 = request.args.get('pa4')\n",
    "        pa5 = request.args.get('pa5')\n",
    "        pa6 = request.args.get('pa6')\n",
    "        \n",
    "        # Get the output from the classification model\n",
    "        #variety = model.classify(sepal_len, sepal_wid, petal_len, petal_wid)\n",
    "        arr=np.array([lb,sex,edu,mar,age,p0,p2,p3,p4,p5,p6,b1,b2,b3,b4,b5,b6,pa1,pa2,pa3,pa4,pa5,pa6])\n",
    "        query=arr.reshape(1,-1)\n",
    "        output_mappings={0:'NO',1:\"YES\"}\n",
    "        output=output_mappings[model.predict(query)[0]]\n",
    "        # Render the output in new HTML page\n",
    "        return render_template('output.html', output=output)\n",
    "    except:\n",
    "        return 'Error'\n",
    "\n",
    "if(__name__=='__main__'):\n",
    "    app.run(debug=False)"
   ]
  },
  {
   "cell_type": "code",
   "execution_count": null,
   "metadata": {},
   "outputs": [],
   "source": []
  },
  {
   "cell_type": "code",
   "execution_count": null,
   "metadata": {},
   "outputs": [],
   "source": []
  }
 ],
 "metadata": {
  "kernelspec": {
   "display_name": "Python 3",
   "language": "python",
   "name": "python3"
  },
  "language_info": {
   "codemirror_mode": {
    "name": "ipython",
    "version": 3
   },
   "file_extension": ".py",
   "mimetype": "text/x-python",
   "name": "python",
   "nbconvert_exporter": "python",
   "pygments_lexer": "ipython3",
   "version": "3.8.3"
  }
 },
 "nbformat": 4,
 "nbformat_minor": 4
}
